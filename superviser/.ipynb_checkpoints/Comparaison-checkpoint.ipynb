{
 "cells": [
  {
   "cell_type": "markdown",
   "metadata": {},
   "source": [
    "#  Comparaison des 3 méthodes: k-NN, ANN et SVM\n",
    "\n",
    "> Réaliser par Mohamed ELFILALI et Nguyen Duc Hau\n",
    "\n",
    "## Contexte\n",
    "\n",
    "\n",
    "Ce travail est réalisé dans le cadre du cours Apprentissage, ou on va expérimentées trois méthodes réparties en trois TP. Le jeu de donnée utilisé est **MNIST original**.\n",
    "\n",
    "\n",
    "## Comparaison\n",
    "\n",
    "\n",
    "A partir de l'expérimentation (cf. **TP1.pdf**, **TP2.pdf**, **TP3.pdf**), nous en déduisons le tableau ci-dessous.\n",
    "\n",
    "| Critère | k-NN | ANN | SVM |\n",
    "| ------ |:------: | :------: | ------|\n",
    "| Vitesse de convergence vers l'optimum | relativement vite | très lente | moyen |\n",
    "| Réglementation pour bias et variance | paramètre __k__ | paramètre __alpha__ | paramètre __C__ |\n",
    "| Complexité de développement | Très facile à concevoir un modèle manuel | Très compliqué, surtout l'algorithme de backpropagation | Compliqué et demande une compréhension de données et de compétence mathématique pour implémenter les fonctions kernels |\n",
    "| Complexité en production | Facile à suivre et debugger | Le fonctionnement dans les couches intermédiaire est une boîte noire donc obscure pour analyser le résultat | Si la nature des données est connue, cette méthode devient facile à ajuster les paramètres\n",
    "| Intérêt | Facile à comprendre et mettre en place, haute vitesse de calcul  | Apdaté aux problèmes de natures différents, donc intéressant pour les problèmes complexes | Permets d'obtenir un modèle ajusté très fin au problème, robust aux données bruitées et/ou à grande dimension |\n",
    "| Inconvénient | Gourmande en espace de mémoire, prédiction lente, sensible aux features non pertinentes ou corrélés | Difficile à interpréter le processus d'apprentissage comme son fonctionnement reste un boîte noire | Difficile à traiter un jeu de données en grande nombre d'observation (car la matrice de Gram doit être stockée), difficile à choisir une fonction noyau sans avoir une expertise de métiers |\n",
    "| Exemple d'application | Les problèmes convexes, données bruitées, pas besoin une précision élevée (système de recommandation, etc.) | Les problème très complexes pour modéliser, un grand jeu de données, bruitées possible, nécessité d'adaptation pour la prédiction soit traitée en temps réel, identification des features pertinents. | Les problèmes typiques pharmaceutiques: grande dimension alors que le nombre d'observation est peu, besoin d'un modèle sur mesure. |\n",
    "\n",
    "A noter que, l'intérêt et l'inconvénient de chaque méthode ont été détaillé dans les rapports spécifiques (cf. **TP1.pdf**, **TP2.pdf**, **TP3.pdf**). Ce tableau récapitule les grandes lignes de ces champs."
   ]
  },
  {
   "cell_type": "markdown",
   "metadata": {},
   "source": [
    "# Annexe\n",
    "\n",
    "Vous trouverez le code exécutable sur le lien github suivant : https://github.com/Kihansi95/apprentissage/tree/master/superviser\n",
    "\n"
   ]
  }
 ],
 "metadata": {
  "kernelspec": {
   "display_name": "Python 3",
   "language": "python",
   "name": "python3"
  },
  "language_info": {
   "codemirror_mode": {
    "name": "ipython",
    "version": 3
   },
   "file_extension": ".py",
   "mimetype": "text/x-python",
   "name": "python",
   "nbconvert_exporter": "python",
   "pygments_lexer": "ipython3",
   "version": "3.6.7"
  }
 },
 "nbformat": 4,
 "nbformat_minor": 2
}
