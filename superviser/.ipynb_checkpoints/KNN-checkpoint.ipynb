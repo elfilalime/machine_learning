{
 "cells": [
  {
   "cell_type": "markdown",
   "metadata": {},
   "source": [
    "#  KNN\n",
    "\n",
    "> Réaliser par Mohamed ELFILALI\n",
    "\n",
    "## Manipulation de la base de données MNIST\n",
    "\n",
    "Dans cette partie on va essayer de voir et comprendre les données de la base de données MNIST fourni par SKLEARN."
   ]
  },
  {
   "cell_type": "markdown",
   "metadata": {},
   "source": [
    "### Visualisation\n",
    "\n",
    "On commence par charger les bibliothèques dédiées pour visualiser nos données."
   ]
  },
  {
   "cell_type": "code",
   "execution_count": 1,
   "metadata": {},
   "outputs": [],
   "source": [
    "from sklearn import datasets\n",
    "import matplotlib.pyplot as plt \n",
    "from sklearn import datasets\n",
    "from sklearn import model_selection\n",
    "from sklearn import neighbors\n",
    "import numpy as np\n",
    "from sklearn import metrics\n",
    "import warnings; \n",
    "warnings.simplefilter('ignore')\n",
    "\n",
    "mnist = datasets.fetch_mldata('MNIST original')"
   ]
  },
  {
   "cell_type": "markdown",
   "metadata": {},
   "source": [
    "\n",
    "La fonction PRINT on lui attribuant MNIST comme paramètre permet de visualiser le contenue de notre DATASET. En revanche la fonction LEN nous donne le nombre des éléments de notre DATASET"
   ]
  },
  {
   "cell_type": "code",
   "execution_count": 2,
   "metadata": {},
   "outputs": [
    {
     "name": "stdout",
     "output_type": "stream",
     "text": [
      "Les éléments de MNIST\n",
      "{'DESCR': 'mldata.org dataset: mnist-original', 'COL_NAMES': ['label', 'data'], 'target': array([0., 0., 0., ..., 9., 9., 9.]), 'data': array([[0, 0, 0, ..., 0, 0, 0],\n",
      "       [0, 0, 0, ..., 0, 0, 0],\n",
      "       [0, 0, 0, ..., 0, 0, 0],\n",
      "       ...,\n",
      "       [0, 0, 0, ..., 0, 0, 0],\n",
      "       [0, 0, 0, ..., 0, 0, 0],\n",
      "       [0, 0, 0, ..., 0, 0, 0]], dtype=uint8)}\n",
      "\n",
      "Les composant de Data et target\n",
      "[[0 0 0 ... 0 0 0]\n",
      " [0 0 0 ... 0 0 0]\n",
      " [0 0 0 ... 0 0 0]\n",
      " ...\n",
      " [0 0 0 ... 0 0 0]\n",
      " [0 0 0 ... 0 0 0]\n",
      " [0 0 0 ... 0 0 0]]\n",
      "[0. 0. 0. ... 9. 9. 9.]\n",
      "\n",
      "La taille du DATASET\n",
      "70000\n",
      "\n",
      "L'allure du DATASET\n",
      "(70000, 784)\n",
      "(70000,)\n"
     ]
    }
   ],
   "source": [
    "print(\"Les éléments de MNIST\")\n",
    "print(mnist)\n",
    "print(\"\")\n",
    "print(\"Les composant de Data et target\")\n",
    "print (mnist.data)\n",
    "print (mnist.target)\n",
    "print(\"\")\n",
    "print(\"La taille du DATASET\")\n",
    "print(len(mnist.data))\n",
    "print(\"\")\n",
    "print(\"L'allure du DATASET\")\n",
    "print (mnist.data.shape)\n",
    "print (mnist.target.shape)"
   ]
  },
  {
   "cell_type": "markdown",
   "metadata": {},
   "source": [
    "\n",
    "La fonction HELP nous permet de comprendre l’utilité de chaque fonction"
   ]
  },
  {
   "cell_type": "code",
   "execution_count": 3,
   "metadata": {},
   "outputs": [
    {
     "name": "stdout",
     "output_type": "stream",
     "text": [
      "Help on built-in function len in module builtins:\n",
      "\n",
      "len(obj, /)\n",
      "    Return the number of items in a container.\n",
      "\n"
     ]
    }
   ],
   "source": [
    "help(len)"
   ]
  },
  {
   "cell_type": "markdown",
   "metadata": {},
   "source": [
    "\n",
    "On peut accéder par la suite au diffèrent entre de notre data par plusieurs manières"
   ]
  },
  {
   "cell_type": "code",
   "execution_count": 4,
   "metadata": {},
   "outputs": [
    {
     "name": "stdout",
     "output_type": "stream",
     "text": [
      "[  0   0   0   0   0   0   0   0   0   0   0   0   0   0   0   0   0   0\n",
      "   0   0   0   0   0   0   0   0   0   0   0   0   0   0   0   0   0   0\n",
      "   0   0   0   0   0   0   0   0   0   0   0   0   0   0   0   0   0   0\n",
      "   0   0   0   0   0   0   0   0   0   0   0   0   0   0   0   0   0   0\n",
      "   0   0   0   0   0   0   0   0   0   0   0   0   0   0   0   0   0   0\n",
      "   0   0   0   0   0   0   0   0   0   0   0   0   0   0   0   0   0   0\n",
      "   0   0   0   0   0   0   0   0   0   0   0   0   0   0   0   0   0   0\n",
      "   0  51 159 253 159  50   0   0   0   0   0   0   0   0   0   0   0   0\n",
      "   0   0   0   0   0   0   0   0   0   0  48 238 252 252 252 237   0   0\n",
      "   0   0   0   0   0   0   0   0   0   0   0   0   0   0   0   0   0   0\n",
      "   0  54 227 253 252 239 233 252  57   6   0   0   0   0   0   0   0   0\n",
      "   0   0   0   0   0   0   0   0   0  10  60 224 252 253 252 202  84 252\n",
      " 253 122   0   0   0   0   0   0   0   0   0   0   0   0   0   0   0   0\n",
      "   0 163 252 252 252 253 252 252  96 189 253 167   0   0   0   0   0   0\n",
      "   0   0   0   0   0   0   0   0   0   0  51 238 253 253 190 114 253 228\n",
      "  47  79 255 168   0   0   0   0   0   0   0   0   0   0   0   0   0   0\n",
      "   0  48 238 252 252 179  12  75 121  21   0   0 253 243  50   0   0   0\n",
      "   0   0   0   0   0   0   0   0   0   0  38 165 253 233 208  84   0   0\n",
      "   0   0   0   0 253 252 165   0   0   0   0   0   0   0   0   0   0   0\n",
      "   0   7 178 252 240  71  19  28   0   0   0   0   0   0 253 252 195   0\n",
      "   0   0   0   0   0   0   0   0   0   0   0  57 252 252  63   0   0   0\n",
      "   0   0   0   0   0   0 253 252 195   0   0   0   0   0   0   0   0   0\n",
      "   0   0   0 198 253 190   0   0   0   0   0   0   0   0   0   0 255 253\n",
      " 196   0   0   0   0   0   0   0   0   0   0   0  76 246 252 112   0   0\n",
      "   0   0   0   0   0   0   0   0 253 252 148   0   0   0   0   0   0   0\n",
      "   0   0   0   0  85 252 230  25   0   0   0   0   0   0   0   0   7 135\n",
      " 253 186  12   0   0   0   0   0   0   0   0   0   0   0  85 252 223   0\n",
      "   0   0   0   0   0   0   0   7 131 252 225  71   0   0   0   0   0   0\n",
      "   0   0   0   0   0   0  85 252 145   0   0   0   0   0   0   0  48 165\n",
      " 252 173   0   0   0   0   0   0   0   0   0   0   0   0   0   0  86 253\n",
      " 225   0   0   0   0   0   0 114 238 253 162   0   0   0   0   0   0   0\n",
      "   0   0   0   0   0   0   0   0  85 252 249 146  48  29  85 178 225 253\n",
      " 223 167  56   0   0   0   0   0   0   0   0   0   0   0   0   0   0   0\n",
      "  85 252 252 252 229 215 252 252 252 196 130   0   0   0   0   0   0   0\n",
      "   0   0   0   0   0   0   0   0   0   0  28 199 252 252 253 252 252 233\n",
      " 145   0   0   0   0   0   0   0   0   0   0   0   0   0   0   0   0   0\n",
      "   0   0   0  25 128 252 253 252 141  37   0   0   0   0   0   0   0   0\n",
      "   0   0   0   0   0   0   0   0   0   0   0   0   0   0   0   0   0   0\n",
      "   0   0   0   0   0   0   0   0   0   0   0   0   0   0   0   0   0   0\n",
      "   0   0   0   0   0   0   0   0   0   0   0   0   0   0   0   0   0   0\n",
      "   0   0   0   0   0   0   0   0   0   0   0   0   0   0   0   0   0   0\n",
      "   0   0   0   0   0   0   0   0   0   0   0   0   0   0   0   0   0   0\n",
      "   0   0   0   0   0   0   0   0   0   0   0   0   0   0   0   0   0   0\n",
      "   0   0   0   0   0   0   0   0   0   0]\n",
      "0\n",
      "[0 0 0 ... 0 0 0]\n",
      "[[0 0 0 ... 0 0 0]\n",
      " [0 0 0 ... 0 0 0]\n",
      " [0 0 0 ... 0 0 0]\n",
      " ...\n",
      " [0 0 0 ... 0 0 0]\n",
      " [0 0 0 ... 0 0 0]\n",
      " [0 0 0 ... 0 0 0]]\n"
     ]
    }
   ],
   "source": [
    "print(mnist.data[0])\n",
    "print(mnist.data[0][1])\n",
    "print(mnist.data[:,1])\n",
    "print(mnist.data[:100])"
   ]
  },
  {
   "cell_type": "markdown",
   "metadata": {},
   "source": [
    "\n",
    "On peut aussi visualiser d’une façon graphique les éléments de notre DATASET "
   ]
  },
  {
   "cell_type": "code",
   "execution_count": 5,
   "metadata": {},
   "outputs": [
    {
     "data": {
      "image/png": "[encoded data removed]",
      "text/plain": [
       "<Figure size 432x288 with 1 Axes>"
      ]
     },
     "metadata": {
      "needs_background": "light"
     },
     "output_type": "display_data"
    }
   ],
   "source": [
    "images = mnist.data.reshape((-1, 28, 28)) \n",
    "plt.imshow(images[0],cmap=plt.cm.gray_r,interpolation=\"nearest\")\n",
    "plt.show() "
   ]
  },
  {
   "cell_type": "markdown",
   "metadata": {},
   "source": [
    "\n",
    "D’après l’image on peut visualiser le nombre 0, est-ce le cas ? Pour savoir la réponse on peut afficher la donnée descriptive convenable"
   ]
  },
  {
   "cell_type": "code",
   "execution_count": 6,
   "metadata": {},
   "outputs": [
    {
     "name": "stdout",
     "output_type": "stream",
     "text": [
      "0.0\n"
     ]
    }
   ],
   "source": [
    "print(mnist.target[0])"
   ]
  },
  {
   "cell_type": "markdown",
   "metadata": {},
   "source": [
    "### Exploration d'autres jeux de données"
   ]
  },
  {
   "cell_type": "markdown",
   "metadata": {},
   "source": [
    "A l’aide des mêmes étapes on peut visualiser d’autre DATASET par exemple le jeu de données WINE fourni par SKLEARN"
   ]
  },
  {
   "cell_type": "code",
   "execution_count": 7,
   "metadata": {},
   "outputs": [
    {
     "name": "stdout",
     "output_type": "stream",
     "text": [
      "+-----------+--------------+-------+---------------------+-------------+----------+\n",
      "|   alcohol |   malic_acid |   ash |   alcalinity_of_ash |   magnesium |   Target |\n",
      "+===========+==============+=======+=====================+=============+==========+\n",
      "|     14.23 |         1.71 |  2.43 |                15.6 |         127 |        0 |\n",
      "+-----------+--------------+-------+---------------------+-------------+----------+\n",
      "|     13.2  |         1.78 |  2.14 |                11.2 |         100 |        0 |\n",
      "+-----------+--------------+-------+---------------------+-------------+----------+\n",
      "|     13.16 |         2.36 |  2.67 |                18.6 |         101 |        0 |\n",
      "+-----------+--------------+-------+---------------------+-------------+----------+\n",
      "|     14.37 |         1.95 |  2.5  |                16.8 |         113 |        0 |\n",
      "+-----------+--------------+-------+---------------------+-------------+----------+\n",
      "|     13.24 |         2.59 |  2.87 |                21   |         118 |        0 |\n",
      "+-----------+--------------+-------+---------------------+-------------+----------+\n",
      "|     14.2  |         1.76 |  2.45 |                15.2 |         112 |        0 |\n",
      "+-----------+--------------+-------+---------------------+-------------+----------+\n",
      "|     14.39 |         1.87 |  2.45 |                14.6 |          96 |        0 |\n",
      "+-----------+--------------+-------+---------------------+-------------+----------+\n",
      "|     14.06 |         2.15 |  2.61 |                17.6 |         121 |        0 |\n",
      "+-----------+--------------+-------+---------------------+-------------+----------+\n",
      "|     14.83 |         1.64 |  2.17 |                14   |          97 |        0 |\n",
      "+-----------+--------------+-------+---------------------+-------------+----------+\n",
      "|     13.86 |         1.35 |  2.27 |                16   |          98 |        0 |\n",
      "+-----------+--------------+-------+---------------------+-------------+----------+\n",
      "|     14.1  |         2.16 |  2.3  |                18   |         105 |        0 |\n",
      "+-----------+--------------+-------+---------------------+-------------+----------+\n",
      "|     14.12 |         1.48 |  2.32 |                16.8 |          95 |        0 |\n",
      "+-----------+--------------+-------+---------------------+-------------+----------+\n",
      "|     13.75 |         1.73 |  2.41 |                16   |          89 |        0 |\n",
      "+-----------+--------------+-------+---------------------+-------------+----------+\n",
      "|     14.75 |         1.73 |  2.39 |                11.4 |          91 |        0 |\n",
      "+-----------+--------------+-------+---------------------+-------------+----------+\n",
      "|     14.38 |         1.87 |  2.38 |                12   |         102 |        0 |\n",
      "+-----------+--------------+-------+---------------------+-------------+----------+\n",
      "|     13.63 |         1.81 |  2.7  |                17.2 |         112 |        0 |\n",
      "+-----------+--------------+-------+---------------------+-------------+----------+\n"
     ]
    }
   ],
   "source": [
    "from tabulate import tabulate\n",
    "\n",
    "wine = datasets.load_wine()\n",
    "\n",
    "values = wine.data\n",
    "target = wine.target\n",
    "\n",
    "newValues = []\n",
    "newfeature = []\n",
    "for i in range(5):\n",
    "    newfeature.append(wine.feature_names[i])\n",
    "newfeature.append(\"Target\")\n",
    "\n",
    "for j in range(len(values)):\n",
    "    if j <= 15 :\n",
    "        content = []\n",
    "        for i in range(len(values[j])):\n",
    "            if i < 5:\n",
    "                content.append(values[j][i]) \n",
    "        content.append(target[j])\n",
    "        newValues.append(content)      \n",
    "    \n",
    "print(tabulate(newValues, headers=newfeature,tablefmt=\"grid\"))"
   ]
  },
  {
   "cell_type": "markdown",
   "metadata": {},
   "source": [
    "## La méthode des k-nn\n",
    "\n",
    "Dans cette partie on va commencer notre premier algorithme d’apprentissage superviser qui utilise le principe du plus proche voisin.\n",
    "\n",
    "### Apprentissage\n",
    "\n",
    "Tout d’abord on va couper notre jeu donné en deux parties ; la partie qui va servir pour l’apprentissage et l’autre pour l’entrainement. Pour cela on va utiliser la méthode « model_selection » avec une liste d’indice aléatoire pour bien mélanger nos données"
   ]
  },
  {
   "cell_type": "code",
   "execution_count": 27,
   "metadata": {},
   "outputs": [],
   "source": [
    "data = np.random.randint(70000,size=5000)\n",
    "xtrain,xtest,ytrain,ytest = model_selection.train_test_split(mnist.data[data],mnist.target[data],train_size=0.8)"
   ]
  },
  {
   "cell_type": "markdown",
   "metadata": {},
   "source": [
    "Maintenant on va créer un classifieur de type KNeighbors avec 10 voisins et ensuite on va l’entrainer."
   ]
  },
  {
   "cell_type": "code",
   "execution_count": 9,
   "metadata": {},
   "outputs": [
    {
     "data": {
      "text/plain": [
       "KNeighborsClassifier(algorithm='auto', leaf_size=30, metric='minkowski',\n",
       "           metric_params=None, n_jobs=None, n_neighbors=10, p=2,\n",
       "           weights='uniform')"
      ]
     },
     "execution_count": 9,
     "metadata": {},
     "output_type": "execute_result"
    }
   ],
   "source": [
    "clf = neighbors.KNeighborsClassifier(n_neighbors=10)\n",
    "\n",
    "clf.fit(xtrain,ytrain)"
   ]
  },
  {
   "cell_type": "markdown",
   "metadata": {},
   "source": [
    "Ensuite on va prédire l’image 4 de note dataset et la comparer avec la valeur cible."
   ]
  },
  {
   "cell_type": "code",
   "execution_count": 10,
   "metadata": {},
   "outputs": [
    {
     "name": "stdout",
     "output_type": "stream",
     "text": [
      "[9.]\n"
     ]
    },
    {
     "data": {
      "image/png": "[encoded data removed]",
      "text/plain": [
       "<Figure size 432x288 with 1 Axes>"
      ]
     },
     "metadata": {
      "needs_background": "light"
     },
     "output_type": "display_data"
    }
   ],
   "source": [
    "predicted = clf.predict(xtest[4].reshape(1, -1))\n",
    "\n",
    "print(predicted)\n",
    "\n",
    "images = xtest.reshape((-1, 28, 28)) \n",
    "\n",
    "plt.imshow(images[4],cmap=plt.cm.gray_r,interpolation=\"nearest\") \n",
    "plt.show() "
   ]
  },
  {
   "cell_type": "markdown",
   "metadata": {},
   "source": [
    "On affiche le score de notre classifieur et aussi son taux d’erreur. Le taux d’erreur est de 6% ce qui est logique car on n’a pas fourni un grand nombre d’entré pour l’apprentissage."
   ]
  },
  {
   "cell_type": "code",
   "execution_count": 11,
   "metadata": {},
   "outputs": [
    {
     "name": "stdout",
     "output_type": "stream",
     "text": [
      "Score : 0.932\n",
      "Erreur : 0.06799999999999995\n"
     ]
    }
   ],
   "source": [
    "print(\"Score :\",clf.score(xtest, ytest))\n",
    "\n",
    "ypredTest = clf.predict(xtest)\n",
    "\n",
    "print(\"Erreur :\",metrics.zero_one_loss(ytest, ypredTest))"
   ]
  },
  {
   "cell_type": "markdown",
   "metadata": {},
   "source": [
    "### Evaluation"
   ]
  },
  {
   "cell_type": "markdown",
   "metadata": {},
   "source": [
    "Pour voire l’impact du nombre des voisins sur la précision du classifieur on effectue le code suivant."
   ]
  },
  {
   "cell_type": "code",
   "execution_count": 28,
   "metadata": {},
   "outputs": [
    {
     "name": "stdout",
     "output_type": "stream",
     "text": [
      "Score for  2  :  0.918\n",
      "Score for  3  :  0.929\n",
      "Score for  4  :  0.918\n",
      "Score for  5  :  0.915\n",
      "Score for  6  :  0.915\n",
      "Score for  7  :  0.908\n",
      "Score for  8  :  0.913\n",
      "Score for  9  :  0.909\n",
      "Score for  10  :  0.91\n",
      "Score for  11  :  0.906\n",
      "Score for  12  :  0.908\n",
      "Score for  13  :  0.912\n",
      "Score for  14  :  0.909\n"
     ]
    }
   ],
   "source": [
    "scores = []\n",
    "\n",
    "for k in range(2,15):\n",
    "    clf = neighbors.KNeighborsClassifier(n_neighbors=k)\n",
    "\n",
    "    clf.fit(xtrain,ytrain)\n",
    "\n",
    "    score = clf.score(xtest, ytest)\n",
    "\n",
    "    scores.append(score)\n",
    "\n",
    "    print(\"Score for \",k,' : ',score)\n",
    "    "
   ]
  },
  {
   "cell_type": "code",
   "execution_count": 30,
   "metadata": {},
   "outputs": [
    {
     "data": {
      "image/png": "[encoded data removed]",
      "text/plain": [
       "<Figure size 432x288 with 1 Axes>"
      ]
     },
     "metadata": {
      "needs_background": "light"
     },
     "output_type": "display_data"
    }
   ],
   "source": [
    "plt.bar(range(2,15),scores)\n",
    "plt.xlabel('Nombre de voisins')\n",
    "plt.ylabel('Score')\n",
    "plt.ylim(0.9, 0.93)\n",
    "plt.show()"
   ]
  },
  {
   "cell_type": "markdown",
   "metadata": {},
   "source": [
    "On va voir maintenant est ce que la manière avec la quelle on découpe notre dataset influe sur précision."
   ]
  },
  {
   "cell_type": "code",
   "execution_count": 14,
   "metadata": {},
   "outputs": [
    {
     "name": "stdout",
     "output_type": "stream",
     "text": [
      "Score for  [    0     1     2 ... 14996 14998 14999]  :  0.9873333333333333\n",
      "Score for  [    0     2     3 ... 14997 14998 14999]  :  0.9926666666666667\n",
      "Score for  [    0     1     2 ... 14997 14998 14999]  :  0.9906666666666667\n",
      "Score for  [    0     1     2 ... 14996 14997 14999]  :  0.9873333333333333\n",
      "Score for  [    0     1     2 ... 14997 14998 14999]  :  0.992\n",
      "Score for  [    1     2     3 ... 14997 14998 14999]  :  0.992\n",
      "Score for  [    0     1     3 ... 14997 14998 14999]  :  0.992\n",
      "Score for  [    0     1     2 ... 14997 14998 14999]  :  0.9886666666666667\n",
      "Score for  [    0     1     2 ... 14997 14998 14999]  :  0.9933333333333333\n",
      "Score for  [    0     1     2 ... 14995 14997 14998]  :  0.9893333333333333\n"
     ]
    }
   ],
   "source": [
    "KF = model_selection.KFold(n_splits=10,shuffle=True)\n",
    "clf = neighbors.KNeighborsClassifier(n_neighbors=7)\n",
    "\n",
    "data = np.random.randint(70000,size=15000)\n",
    "X = mnist.data[data]\n",
    "\n",
    "scoresKfold = []\n",
    "for train_index, test_index in KF.split(X):\n",
    "    clf.fit(mnist.data[train_index],mnist.target[train_index])\n",
    "    score = clf.score(mnist.data[test_index], mnist.target[test_index])\n",
    "\n",
    "    scoresKfold.append(score)\n",
    "\n",
    "    print(\"Score for \",train_index,' : ',score)"
   ]
  },
  {
   "cell_type": "markdown",
   "metadata": {},
   "source": [
    "On peut constater que la manier avec la quelle on coupe ne joue pas un grand rôle."
   ]
  },
  {
   "cell_type": "code",
   "execution_count": 15,
   "metadata": {},
   "outputs": [
    {
     "data": {
      "image/png": "[encoded data removed]",
      "text/plain": [
       "<Figure size 432x288 with 1 Axes>"
      ]
     },
     "metadata": {
      "needs_background": "light"
     },
     "output_type": "display_data"
    }
   ],
   "source": [
    "plt.bar(range(10),scoresKfold)\n",
    "plt.xlabel('Pourcentage de split')\n",
    "plt.ylabel('Score')\n",
    "plt.ylim(0.8, 1)\n",
    "plt.show()"
   ]
  },
  {
   "cell_type": "markdown",
   "metadata": {},
   "source": [
    "D’après ce qui précède on a pu voir qu’avec un nombre de voisinage de 3 on a un bon score. Maintenant avec cette même valeur on va varier le pourcentage des échantillant."
   ]
  },
  {
   "cell_type": "code",
   "execution_count": 31,
   "metadata": {},
   "outputs": [
    {
     "name": "stdout",
     "output_type": "stream",
     "text": [
      "Score for  0.1  :  0.8275555555555556\n",
      "Score for  0.2  :  0.8735\n",
      "Score for  0.30000000000000004  :  0.8868571428571429\n",
      "Score for  0.4  :  0.9053333333333333\n",
      "Score for  0.5  :  0.9168\n",
      "Score for  0.6  :  0.9155\n",
      "Score for  0.7000000000000001  :  0.924\n",
      "Score for  0.8  :  0.921\n",
      "Score for  0.9  :  0.946\n"
     ]
    }
   ],
   "source": [
    "data = np.random.randint(70000,size=5000)\n",
    "\n",
    "scoresTraine = []\n",
    "for percentage in np.arange(0.1, 1.0, 0.1):\n",
    "    xtrain,xtest,ytrain,ytest = model_selection.train_test_split(mnist.data[data],mnist.target[data],train_size=percentage)\n",
    "    clf = neighbors.KNeighborsClassifier(n_neighbors=3)\n",
    "    clf.fit(xtrain,ytrain)\n",
    "    score = clf.score(xtest, ytest)\n",
    "\n",
    "    scoresTraine.append(score)\n",
    "\n",
    "    print(\"Score for \",percentage,' : ',score)"
   ]
  },
  {
   "cell_type": "markdown",
   "metadata": {},
   "source": [
    "Tant qu’on ajoute un grand nombre d’entrées pour le test plus on obtient de meilleures précisions. On remarque que le pourcentage 90% donne un meilleur résultat."
   ]
  },
  {
   "cell_type": "code",
   "execution_count": 33,
   "metadata": {},
   "outputs": [
    {
     "data": {
      "image/png": "[encoded data removed]",
      "text/plain": [
       "<Figure size 432x288 with 1 Axes>"
      ]
     },
     "metadata": {
      "needs_background": "light"
     },
     "output_type": "display_data"
    }
   ],
   "source": [
    "plt.bar(np.arange(10, 100, 10),scoresTraine)\n",
    "plt.xlabel('Pourcentage de split')\n",
    "plt.ylabel('Score')\n",
    "plt.ylim(0.8, 0.95)\n",
    "plt.show()"
   ]
  },
  {
   "cell_type": "markdown",
   "metadata": {},
   "source": [
    "Maintenant on fait varier la valeur de la métrique de Minkowski."
   ]
  },
  {
   "cell_type": "code",
   "execution_count": 18,
   "metadata": {},
   "outputs": [
    {
     "name": "stdout",
     "output_type": "stream",
     "text": [
      "Score for  1  :  0.914\n",
      "Score for  2  :  0.917\n",
      "Score for  3  :  0.922\n",
      "Score for  4  :  0.921\n",
      "Score for  5  :  0.923\n",
      "Score for  6  :  0.924\n",
      "Score for  7  :  0.924\n",
      "Score for  8  :  0.928\n",
      "Score for  9  :  0.927\n"
     ]
    }
   ],
   "source": [
    "data = np.random.randint(70000,size=5000)\n",
    "xtrain,xtest,ytrain,ytest = model_selection.train_test_split(mnist.data[data],mnist.target[data],train_size=0.9)\n",
    "\n",
    "scoresMetric = []\n",
    "\n",
    "for m in range(1,10):\n",
    "    clf = neighbors.KNeighborsClassifier(n_neighbors=3,p=m)\n",
    "\n",
    "    clf.fit(xtrain,ytrain)\n",
    "\n",
    "    score = clf.score(xtest, ytest)\n",
    "\n",
    "    scoresMetric.append(score)\n",
    "\n",
    "    print(\"Score for \",m,' : ',score)"
   ]
  },
  {
   "cell_type": "markdown",
   "metadata": {},
   "source": [
    "Cette métrique permet de donner un bon résultat pour ses différentes grandes valeurs. Au plus de 8 on a toujours le même score."
   ]
  },
  {
   "cell_type": "code",
   "execution_count": 19,
   "metadata": {},
   "outputs": [
    {
     "data": {
      "image/png": "[encoded data removed]",
      "text/plain": [
       "<Figure size 432x288 with 1 Axes>"
      ]
     },
     "metadata": {
      "needs_background": "light"
     },
     "output_type": "display_data"
    }
   ],
   "source": [
    "plt.bar(range(1,10),scoresMetric)\n",
    "plt.xlabel('Minkowski metric power')\n",
    "plt.ylabel('Score')\n",
    "plt.ylim(0.85, 0.94)\n",
    "plt.show()"
   ]
  },
  {
   "cell_type": "markdown",
   "metadata": {},
   "source": [
    "Maintenant on fait varier la valeur de l’option n_job."
   ]
  },
  {
   "cell_type": "code",
   "execution_count": 34,
   "metadata": {},
   "outputs": [
    {
     "name": "stdout",
     "output_type": "stream",
     "text": [
      "Pour 1 :  0.23331975936889648 s\n",
      "Pour -1 :  0.21465277671813965 s\n"
     ]
    }
   ],
   "source": [
    "import time\n",
    "\n",
    "data = np.random.randint(70000,size=5000)\n",
    "xtrain,xtest,ytrain,ytest = model_selection.train_test_split(mnist.data[data],mnist.target[data],train_size=0.9)\n",
    "\n",
    "start = time.time()\n",
    "clf = neighbors.KNeighborsClassifier(n_neighbors=3,n_jobs=1)\n",
    "clf.fit(xtrain,ytrain)\n",
    "end = time.time()\n",
    "print(\"Pour 1 : \",end - start,\"s\")\n",
    "\n",
    "start = time.time()\n",
    "clf = neighbors.KNeighborsClassifier(n_neighbors=3,n_jobs=-1)\n",
    "clf.fit(xtrain,ytrain)\n",
    "end = time.time()\n",
    "print(\"Pour -1 : \",end - start,\"s\")"
   ]
  },
  {
   "cell_type": "markdown",
   "metadata": {},
   "source": [
    "### Conclusion\n",
    "\n",
    "\n",
    "D’après notre analyse de la méthode avec ses différentes options on remarque que cette dernière a un temps d’apprentissage qui est rapide et aussi simple à réaliser et manipuler.\n",
    "\n",
    "En revanche la méthode est sensible vis-à-vis à la taille des jeux données, aussi que la prédiction prend un temps énorme.  "
   ]
  }
 ],
 "metadata": {
  "kernelspec": {
   "display_name": "Python 3",
   "language": "python",
   "name": "python3"
  },
  "language_info": {
   "codemirror_mode": {
    "name": "ipython",
    "version": 3
   },
   "file_extension": ".py",
   "mimetype": "text/x-python",
   "name": "python",
   "nbconvert_exporter": "python",
   "pygments_lexer": "ipython3",
   "version": "3.6.7"
  }
 },
 "nbformat": 4,
 "nbformat_minor": 2
}
