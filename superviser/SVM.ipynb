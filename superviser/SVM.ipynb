{
 "cells": [
  {
   "cell_type": "markdown",
   "metadata": {},
   "source": [
    "# SVM\n",
    "\n",
    "> Réalisé par : Mohamed ELFILALI\n",
    "\n",
    "## Apprentissage\n",
    "\n",
    "Dans ce TP on va utiliser le classifieur SVM de la bibliothèque scikit-learn comme outil d’apprentissage superviser.\n"
   ]
  },
  {
   "cell_type": "code",
   "execution_count": 1,
   "metadata": {},
   "outputs": [],
   "source": [
    "from sklearn import datasets\n",
    "import matplotlib.pyplot as plt \n",
    "from sklearn import datasets\n",
    "from sklearn import model_selection\n",
    "from sklearn.svm import SVC\n",
    "import numpy as np\n",
    "from sklearn import metrics\n",
    "\n",
    "import warnings; \n",
    "warnings.simplefilter('ignore')\n",
    "\n",
    "mnist = datasets.fetch_mldata('MNIST original')"
   ]
  },
  {
   "cell_type": "markdown",
   "metadata": {},
   "source": [
    "Tout d’abord on va couper notre jeu donné en deux parties ; la partie qui va servir pour l’apprentissage et l’autre pour l’entrainement. Pour cela on va utiliser la méthode « model_selection » avec une liste d’indice aléatoire pour bien mélanger nos données"
   ]
  },
  {
   "cell_type": "code",
   "execution_count": 2,
   "metadata": {},
   "outputs": [],
   "source": [
    "data = np.random.randint(70000,size=5000)\n",
    "xtrain,xtest,ytrain,ytest = model_selection.train_test_split(mnist.data[data],mnist.target[data],train_size=0.7)"
   ]
  },
  {
   "cell_type": "markdown",
   "metadata": {},
   "source": [
    "Maintenant on va créer un classifieur de type SVM avec un noyau \"Linear\" et ensuite on va l’entrainer."
   ]
  },
  {
   "cell_type": "code",
   "execution_count": 8,
   "metadata": {},
   "outputs": [
    {
     "name": "stdout",
     "output_type": "stream",
     "text": [
      "Score 0.8993333333333333\n"
     ]
    }
   ],
   "source": [
    "model = SVC(kernel='linear')\n",
    "\n",
    "model.fit(xtrain,ytrain)\n",
    "\n",
    "score = model.score(xtest,ytest)\n",
    "\n",
    "print(\"Score :\",score)"
   ]
  },
  {
   "cell_type": "markdown",
   "metadata": {},
   "source": [
    "Pour bien visualiser l’impact du noyau choisit sur le classifieur on exécute le code suivant."
   ]
  },
  {
   "cell_type": "code",
   "execution_count": 11,
   "metadata": {},
   "outputs": [
    {
     "name": "stdout",
     "output_type": "stream",
     "text": [
      "Score avec linear : 0.8993333333333333\n",
      "Score avec poly : 0.9286666666666666\n",
      "Score avec rbf : 0.15333333333333332\n",
      "Score avec sigmoid : 0.11533333333333333\n",
      "Score avec precomputed : 0.102\n"
     ]
    }
   ],
   "source": [
    "scores = []\n",
    "\n",
    "for n in ['linear','poly','rbf','sigmoid']:\n",
    "    model = SVC(kernel=n)\n",
    "\n",
    "    model.fit(xtrain,ytrain)\n",
    "    \n",
    "    score = model.score(xtest,ytest)\n",
    "    \n",
    "    scores.append(score)\n",
    "    \n",
    "    print(\"Score avec\",n,\":\",score)\n",
    "    \n",
    "model = SVC(kernel='precomputed')\n",
    "\n",
    "kernel_train = np.dot(xtrain, xtrain.T) \n",
    "\n",
    "model.fit(kernel_train, ytrain)\n",
    "\n",
    "kernel_test = np.dot(xtest, xtrain.T) \n",
    "\n",
    "score = model.score(kernel_test,ytest)\n",
    "\n",
    "scores.append(score)\n",
    "\n",
    "print(\"Score avec precomputed :\",score)"
   ]
  },
  {
   "cell_type": "markdown",
   "metadata": {},
   "source": [
    "On remarque que les noyaux « linear » et « poly » donnent un bon score. Le noyau Poly est le meilleur entre eux."
   ]
  },
  {
   "cell_type": "code",
   "execution_count": 12,
   "metadata": {},
   "outputs": [
    {
     "data": {
      "image/png": "[encoded data removed]",
      "text/plain": [
       "<Figure size 432x288 with 1 Axes>"
      ]
     },
     "metadata": {
      "needs_background": "light"
     },
     "output_type": "display_data"
    }
   ],
   "source": [
    "plt.bar(['linear','poly','rbf','sigmoid','precomputed'],scores)\n",
    "plt.xlabel('Type de kernel')\n",
    "plt.ylabel('Score')\n",
    "plt.ylim(0, 1.0)\n",
    "plt.show()"
   ]
  },
  {
   "cell_type": "markdown",
   "metadata": {},
   "source": [
    "Maintenant on va faire varier le paramètre de tolérance aux erreurs et voir son impact"
   ]
  },
  {
   "cell_type": "code",
   "execution_count": 16,
   "metadata": {},
   "outputs": [
    {
     "name": "stdout",
     "output_type": "stream",
     "text": [
      "Erreur avec c= 0.1 : 0.07133333333333336\n",
      "Erreur avec c= 2.6 : 0.07133333333333336\n",
      "Erreur avec c= 5.1 : 0.07133333333333336\n",
      "Erreur avec c= 7.6 : 0.07133333333333336\n"
     ]
    }
   ],
   "source": [
    "errorsC = []\n",
    "\n",
    "for n in np.arange(0.1, 10, 2.5):\n",
    "    model = SVC(C=n,kernel='poly')\n",
    "\n",
    "    model.fit(xtrain,ytrain)\n",
    "    \n",
    "    ypredTest = model.predict(xtest)\n",
    "    \n",
    "    error = metrics.zero_one_loss(ytest, ypredTest)\n",
    "    \n",
    "    errorsC.append(error)\n",
    "    \n",
    "    print(\"Erreur avec c=\",n,\":\",error)"
   ]
  },
  {
   "cell_type": "markdown",
   "metadata": {},
   "source": [
    "D’après le graphe du résultat on constat que ce paramètre n’influence pas sur l’erreur du classifieur."
   ]
  },
  {
   "cell_type": "code",
   "execution_count": 17,
   "metadata": {},
   "outputs": [
    {
     "data": {
      "image/png": "[encoded data removed]",
      "text/plain": [
       "<Figure size 432x288 with 1 Axes>"
      ]
     },
     "metadata": {
      "needs_background": "light"
     },
     "output_type": "display_data"
    }
   ],
   "source": [
    "plt.plot(np.arange(0.1, 10, 2.5),errorsC)\n",
    "plt.xlabel('Penalty parameter')\n",
    "plt.ylabel('Erreur')\n",
    "plt.ylim(0, 0.2)\n",
    "plt.show()"
   ]
  },
  {
   "cell_type": "markdown",
   "metadata": {},
   "source": [
    "On fait la même chose pour le paramètre gamma et on constate qu’il n’a pas un impact sur l’apprentissage."
   ]
  },
  {
   "cell_type": "code",
   "execution_count": 18,
   "metadata": {},
   "outputs": [
    {
     "name": "stdout",
     "output_type": "stream",
     "text": [
      "Score avec gamma= 0.1 : 0.9286666666666666\n",
      "Score avec gamma= 2.6 : 0.9286666666666666\n",
      "Score avec gamma= 5.1 : 0.9286666666666666\n",
      "Score avec gamma= 7.6 : 0.9286666666666666\n",
      "Score avec gamma= 10.1 : 0.9286666666666666\n"
     ]
    }
   ],
   "source": [
    "scoresGama = []\n",
    "\n",
    "for n in np.arange(0.1, 12.5, 2.5):\n",
    "    model = SVC(gamma=n,kernel='poly')\n",
    "\n",
    "    model.fit(xtrain,ytrain)\n",
    "    \n",
    "    score = model.score(xtest,ytest)\n",
    "    \n",
    "    scoresGama.append(score)\n",
    "    \n",
    "    print(\"Score avec gamma=\",n,\":\",score)"
   ]
  },
  {
   "cell_type": "code",
   "execution_count": 19,
   "metadata": {},
   "outputs": [
    {
     "data": {
      "image/png": "[encoded data removed]",
      "text/plain": [
       "<Figure size 432x288 with 1 Axes>"
      ]
     },
     "metadata": {
      "needs_background": "light"
     },
     "output_type": "display_data"
    }
   ],
   "source": [
    "plt.plot(np.arange(0.1, 12.5, 2.5),scoresGama)\n",
    "plt.xlabel('Gamma coefficient')\n",
    "plt.ylabel('Score')\n",
    "plt.ylim(0, 1.5)\n",
    "plt.show()"
   ]
  },
  {
   "cell_type": "markdown",
   "metadata": {},
   "source": [
    "A ce point-là on a testé les différents paramètres du classifieur et comparé les résultats obtenus, maintenant à l’aide de la fonction GridSearchCV on va essayer de trouver les meilleures options."
   ]
  },
  {
   "cell_type": "code",
   "execution_count": 3,
   "metadata": {},
   "outputs": [
    {
     "data": {
      "text/plain": [
       "GridSearchCV(cv='warn', error_score='raise-deprecating',\n",
       "       estimator=SVC(C=1.0, cache_size=200, class_weight=None, coef0=0.0,\n",
       "  decision_function_shape='ovr', degree=3, gamma='auto_deprecated',\n",
       "  kernel='rbf', max_iter=-1, probability=False, random_state=None,\n",
       "  shrinking=True, tol=0.001, verbose=False),\n",
       "       fit_params=None, iid='warn', n_jobs=None,\n",
       "       param_grid={'kernel': ('linear', 'poly', 'rbf', 'sigmoid'), 'C': [1, 10], 'gamma': [1, 10]},\n",
       "       pre_dispatch='2*n_jobs', refit=True, return_train_score='warn',\n",
       "       scoring=None, verbose=0)"
      ]
     },
     "execution_count": 3,
     "metadata": {},
     "output_type": "execute_result"
    }
   ],
   "source": [
    "parameters = {'kernel':('linear','poly','rbf','sigmoid'), 'C':[1, 10],'gamma':[1,10]}\n",
    "model = SVC()\n",
    "clf = model_selection.GridSearchCV(model, parameters)\n",
    "\n",
    "clf.fit(xtrain,ytrain)"
   ]
  },
  {
   "cell_type": "markdown",
   "metadata": {},
   "source": [
    "On affiche maintenant les meilleurs paramètres."
   ]
  },
  {
   "cell_type": "code",
   "execution_count": 4,
   "metadata": {},
   "outputs": [
    {
     "data": {
      "text/plain": [
       "SVC(C=1, cache_size=200, class_weight=None, coef0=0.0,\n",
       "  decision_function_shape='ovr', degree=3, gamma=1, kernel='poly',\n",
       "  max_iter=-1, probability=False, random_state=None, shrinking=True,\n",
       "  tol=0.001, verbose=False)"
      ]
     },
     "execution_count": 4,
     "metadata": {},
     "output_type": "execute_result"
    }
   ],
   "source": [
    "clf.best_estimator_"
   ]
  },
  {
   "cell_type": "markdown",
   "metadata": {},
   "source": [
    "Pour avoir une meilleure vision sur l’ensemble des prédictions on affiche la matrice de confusion. Le résultat idéal est d’avoir une matrice diagonale "
   ]
  },
  {
   "cell_type": "code",
   "execution_count": 5,
   "metadata": {},
   "outputs": [],
   "source": [
    "ypredTest = clf.predict(xtest)\n",
    "cm = metrics.confusion_matrix(ytest,ypredTest)"
   ]
  },
  {
   "cell_type": "code",
   "execution_count": 6,
   "metadata": {},
   "outputs": [
    {
     "name": "stdout",
     "output_type": "stream",
     "text": [
      "[[144   1   0   1   0   0   2   1   0   0]\n",
      " [  0 163   0   0   0   0   0   0   1   0]\n",
      " [  1   6 151   0   0   0   2   2   1   1]\n",
      " [  2   1   3 144   0   1   0   0   3   1]\n",
      " [  0   3   1   0 140   0   0   0   1   0]\n",
      " [  1   2   0   3   1 123   1   0   0   4]\n",
      " [  0   2   0   0   0   2 153   0   0   0]\n",
      " [  1   1   2   2   0   0   0 134   1   4]\n",
      " [  0   3   2   4   0   0   1   0 125   1]\n",
      " [  0   4   1   1   0   0   0   2   0 142]]\n"
     ]
    }
   ],
   "source": [
    "print(cm)"
   ]
  },
  {
   "cell_type": "markdown",
   "metadata": {},
   "source": [
    "# Conclusion"
   ]
  },
  {
   "cell_type": "markdown",
   "metadata": {},
   "source": [
    "**SVM** a ses avantages et ses inconvénients:\n",
    "\n",
    "### Avantages: \n",
    "- Cette méthode permets d'un taux d'erreur stable. \n",
    "- Elle nécessite pas le temps de calcul important (les séparateurs sont hyperplans).\n",
    "- Elle est efficace lors de la mise en production.\n",
    "- **SVM** fonctionne correctement même pour les jeux de données ayant une grande dimension (beaucoup de caractéristiques - features), tandis que le nombre d'observation reste limité.\n",
    "\n",
    "### Inconvénients:\n",
    "- **SVM** demande une connaissance profonde en statistique, des connaissances métiers afin de pouvoir choisir la fonction de noyau (kernel) adapté à la forme des données.\n",
    "- Cette méthode a difficulté lors qu'on a un grand nombre d'observation: Elle a besoin le mémoire en cache pour résoudre le problème d'optimisation.\n",
    "- Elle ne donne pas l'indice sur la pertinence des features."
   ]
  }
 ],
 "metadata": {
  "kernelspec": {
   "display_name": "Python 3",
   "language": "python",
   "name": "python3"
  },
  "language_info": {
   "codemirror_mode": {
    "name": "ipython",
    "version": 3
   },
   "file_extension": ".py",
   "mimetype": "text/x-python",
   "name": "python",
   "nbconvert_exporter": "python",
   "pygments_lexer": "ipython3",
   "version": "3.6.7"
  }
 },
 "nbformat": 4,
 "nbformat_minor": 2
}
